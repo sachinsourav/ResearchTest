{
  "nbformat": 4,
  "nbformat_minor": 0,
  "metadata": {
    "colab": {
      "provenance": []
    },
    "kernelspec": {
      "name": "python3",
      "display_name": "Python 3"
    },
    "language_info": {
      "name": "python"
    }
  },
  "cells": [
    {
      "cell_type": "markdown",
      "source": [
        "##Python Crash Course 1\n",
        "\n",
        "**AGENDA**\n",
        "- Introduction to Jupyter notebooks for Python\n",
        "- Basic Syntax and Operation in Python\n",
        "- Data Structures in Python\n",
        "- Control Structures and functions in Python\n",
        "- Two upgraded assignments (if time permits, otherwise take as homework)"
      ],
      "metadata": {
        "id": "wP2i3LIhxbRB"
      }
    },
    {
      "cell_type": "code",
      "source": [
        "print(\"Hello World\")"
      ],
      "metadata": {
        "colab": {
          "base_uri": "https://localhost:8080/"
        },
        "id": "xIYl1iZkTE3W",
        "outputId": "b9ad518b-a87e-498f-e612-46755b99ea27"
      },
      "execution_count": null,
      "outputs": [
        {
          "output_type": "stream",
          "name": "stdout",
          "text": [
            "Hello World\n"
          ]
        }
      ]
    },
    {
      "cell_type": "code",
      "source": [
        "a = 5 + 6\n",
        "print(a)"
      ],
      "metadata": {
        "colab": {
          "base_uri": "https://localhost:8080/"
        },
        "id": "o-HFqtmFpaKR",
        "outputId": "1cc7ee03-e295-4a5c-839f-569b64ce6ae7"
      },
      "execution_count": null,
      "outputs": [
        {
          "output_type": "stream",
          "name": "stdout",
          "text": [
            "11\n"
          ]
        }
      ]
    },
    {
      "cell_type": "code",
      "source": [
        "a"
      ],
      "metadata": {
        "colab": {
          "base_uri": "https://localhost:8080/"
        },
        "id": "dGHniurnqjse",
        "outputId": "0c2b37ad-e109-4ede-aab0-2a0744019dc7"
      },
      "execution_count": null,
      "outputs": [
        {
          "output_type": "execute_result",
          "data": {
            "text/plain": [
              "11"
            ]
          },
          "metadata": {},
          "execution_count": 7
        }
      ]
    },
    {
      "cell_type": "code",
      "source": [
        "b = 7"
      ],
      "metadata": {
        "id": "uPEFD17ipcVI"
      },
      "execution_count": null,
      "outputs": []
    },
    {
      "cell_type": "code",
      "source": [
        "print(a+b)"
      ],
      "metadata": {
        "colab": {
          "base_uri": "https://localhost:8080/"
        },
        "id": "2DyYy7HJpeVb",
        "outputId": "842fd18c-4928-4998-93c6-ebeeb43f3dd4"
      },
      "execution_count": null,
      "outputs": [
        {
          "output_type": "stream",
          "name": "stdout",
          "text": [
            "18\n"
          ]
        }
      ]
    },
    {
      "cell_type": "markdown",
      "source": [
        "### Basic Syntax and Opertaions in Python"
      ],
      "metadata": {
        "id": "37qKXRo92EP2"
      }
    },
    {
      "cell_type": "code",
      "source": [
        "# Basic arithmetic operations such as +, -, *, %, **\n",
        "a = 5 + 10.0\n",
        "b = 19 - 6.0\n",
        "c = 61 * 2\n",
        "d = int(40) / int(5) # type casting to float\n",
        "e = 12 % 10\n",
        "f = 3.0 ** 3\n",
        "str_val1 = 'h'\n",
        "str_val2=\"hello\""
      ],
      "metadata": {
        "id": "8pbKpcWHy8qg"
      },
      "execution_count": null,
      "outputs": []
    },
    {
      "cell_type": "code",
      "source": [
        "print('This is possible in \"Python\"')"
      ],
      "metadata": {
        "colab": {
          "base_uri": "https://localhost:8080/"
        },
        "id": "TeTBIDhwv0DQ",
        "outputId": "db4f02af-b683-4452-9f62-7598aa5fb765"
      },
      "execution_count": null,
      "outputs": [
        {
          "output_type": "stream",
          "name": "stdout",
          "text": [
            "This is possible in \"Python\"\n"
          ]
        }
      ]
    },
    {
      "cell_type": "code",
      "source": [
        "g = str(True)"
      ],
      "metadata": {
        "id": "TtVA_v1QwOCy"
      },
      "execution_count": null,
      "outputs": []
    },
    {
      "cell_type": "code",
      "source": [
        "g"
      ],
      "metadata": {
        "colab": {
          "base_uri": "https://localhost:8080/",
          "height": 35
        },
        "id": "8XYNwWPcwRFZ",
        "outputId": "04410dd4-434b-440d-ea1c-25608ef11004"
      },
      "execution_count": null,
      "outputs": [
        {
          "output_type": "execute_result",
          "data": {
            "text/plain": [
              "'True'"
            ],
            "application/vnd.google.colaboratory.intrinsic+json": {
              "type": "string"
            }
          },
          "metadata": {},
          "execution_count": 74
        }
      ]
    },
    {
      "cell_type": "code",
      "source": [
        "print(str_val1+g)"
      ],
      "metadata": {
        "colab": {
          "base_uri": "https://localhost:8080/"
        },
        "id": "TGvzsD3RwVL5",
        "outputId": "7ec5f239-700e-43dd-f736-7d2f6dbc96e7"
      },
      "execution_count": null,
      "outputs": [
        {
          "output_type": "stream",
          "name": "stdout",
          "text": [
            "hTrue\n"
          ]
        }
      ]
    },
    {
      "cell_type": "code",
      "source": [
        "import numpy as np"
      ],
      "metadata": {
        "id": "Fj3_9Sayu3XJ",
        "colab": {
          "base_uri": "https://localhost:8080/"
        },
        "outputId": "eec66829-aea6-45cd-ea8d-cdf092455c4c"
      },
      "execution_count": 42,
      "outputs": [
        {
          "output_type": "stream",
          "name": "stdout",
          "text": [
            "time: 689 µs (started: 2024-04-14 13:15:07 +00:00)\n"
          ]
        }
      ]
    },
    {
      "cell_type": "code",
      "source": [
        "x = np.array([255], dtype=np.uint8)\n",
        "x + 2"
      ],
      "metadata": {
        "colab": {
          "base_uri": "https://localhost:8080/"
        },
        "id": "2fFosOjou7dY",
        "outputId": "df40c9cd-5ed8-4797-876b-5cff0312aa28"
      },
      "execution_count": null,
      "outputs": [
        {
          "output_type": "execute_result",
          "data": {
            "text/plain": [
              "array([1], dtype=uint8)"
            ]
          },
          "metadata": {},
          "execution_count": 61
        }
      ]
    },
    {
      "cell_type": "code",
      "source": [
        "type(str_val1) == type(str_val2)"
      ],
      "metadata": {
        "colab": {
          "base_uri": "https://localhost:8080/"
        },
        "id": "Srdr7av-Uxir",
        "outputId": "7465c5b7-834b-4710-86b0-1e26147fe849"
      },
      "execution_count": null,
      "outputs": [
        {
          "output_type": "execute_result",
          "data": {
            "text/plain": [
              "True"
            ]
          },
          "metadata": {},
          "execution_count": 43
        }
      ]
    },
    {
      "cell_type": "code",
      "source": [
        "# print -- inline comment\n",
        "'''\n",
        "Let's try differnt types of comments\n",
        "-> This is example of multi line or block comments\n",
        "'''\n",
        "\"\"\"\n",
        "/*   --- */\n",
        "\"\"\"\n",
        "print(a)\n",
        "print(f\"The value of b is {b}, c is {c}, d is {d}\") # f string\n",
        "print(\"The values of e and f are {} and {} respectively\".format(e, f))"
      ],
      "metadata": {
        "colab": {
          "base_uri": "https://localhost:8080/"
        },
        "id": "LEG7ZXqk2iDC",
        "outputId": "88a1fa32-7153-4594-f00a-7564ed039cd4"
      },
      "execution_count": null,
      "outputs": [
        {
          "output_type": "stream",
          "name": "stdout",
          "text": [
            "15.0\n",
            "The value of b is 13.0, c is 122, d is 8.0\n",
            "The values of e and f are 2 and 27.0 respectively\n"
          ]
        }
      ]
    },
    {
      "cell_type": "code",
      "source": [
        "print(\"The values of e and f are {} and {} respectively\".format(e, f))"
      ],
      "metadata": {
        "colab": {
          "base_uri": "https://localhost:8080/"
        },
        "id": "A5FaFs0Rx_de",
        "outputId": "c5e596d8-6652-4f7a-cf37-3924558c8c9a"
      },
      "execution_count": null,
      "outputs": [
        {
          "output_type": "stream",
          "name": "stdout",
          "text": [
            "The values of e and f are 2 and 27.0 respectively\n"
          ]
        }
      ]
    },
    {
      "cell_type": "code",
      "source": [
        "str_var = \"Now, this is a string variable\"\n",
        "var_ch1 = \"N\"\n",
        "var_ch2 = 'N'\n",
        "print(str_var)\n",
        "bool_var = True\n",
        "complex_var = 10 + 2j"
      ],
      "metadata": {
        "colab": {
          "base_uri": "https://localhost:8080/"
        },
        "id": "s2hgIjYU28wx",
        "outputId": "12165029-173a-48a0-eea6-f049d86efb2b"
      },
      "execution_count": null,
      "outputs": [
        {
          "output_type": "stream",
          "name": "stdout",
          "text": [
            "Now, this is a string variable\n"
          ]
        }
      ]
    },
    {
      "cell_type": "code",
      "source": [
        "type(d)"
      ],
      "metadata": {
        "colab": {
          "base_uri": "https://localhost:8080/"
        },
        "id": "UsrzR-QCzCT8",
        "outputId": "7637d435-fc41-4420-a0eb-6e34d5f970b8"
      },
      "execution_count": null,
      "outputs": [
        {
          "output_type": "execute_result",
          "data": {
            "text/plain": [
              "float"
            ]
          },
          "metadata": {},
          "execution_count": 90
        }
      ]
    },
    {
      "cell_type": "code",
      "source": [
        "\"\"\"\n",
        "Let's see basic data types in Python\n",
        "\"\"\"\n",
        "print(f\"Type of variable a is: {type(a)}\")\n",
        "print(f\"Type of variable d is: {type(d)}\")\n",
        "print(f\"Type of variable str is: {type(str_var)}\")\n",
        "\n",
        "print(f\"Type of variable var_ch1 is: {type(var_ch1)}\")\n",
        "print(f\"Type of variable var_ch2 is: {type(var_ch2)}\")\n",
        "\n",
        "print(f\"Type of variable (e,f,d) is: {type((e,f,d))}\") # tuple\n",
        "print(f\"Type of variable bool_var is: {type(bool_var)}\")\n",
        "print(f\"Type of variable complex_var is: {type(complex_var)}\")"
      ],
      "metadata": {
        "colab": {
          "base_uri": "https://localhost:8080/"
        },
        "id": "f0vOggrG3rmD",
        "outputId": "4f09ecca-ea76-40d6-f89c-134d453fdc98"
      },
      "execution_count": null,
      "outputs": [
        {
          "output_type": "stream",
          "name": "stdout",
          "text": [
            "Type of variable a is: <class 'float'>\n",
            "Type of variable d is: <class 'float'>\n",
            "Type of variable str is: <class 'str'>\n",
            "Type of variable var_ch1 is: <class 'str'>\n",
            "Type of variable var_ch2 is: <class 'str'>\n",
            "Type of variable (e,f,d) is: <class 'tuple'>\n",
            "Type of variable bool_var is: <class 'bool'>\n",
            "Type of variable complex_var is: <class 'complex'>\n"
          ]
        }
      ]
    },
    {
      "cell_type": "code",
      "source": [
        "# Taking input in Python\n",
        "name = input(\"Enter your first name: \")\n",
        "print(type(name))\n",
        "print(\"Hey! \" + name)"
      ],
      "metadata": {
        "colab": {
          "base_uri": "https://localhost:8080/"
        },
        "id": "VGAU0zFf4CHZ",
        "outputId": "3963ae28-f1a7-414f-a319-bbaa27c80817"
      },
      "execution_count": null,
      "outputs": [
        {
          "output_type": "stream",
          "name": "stdout",
          "text": [
            "Enter your first name: Aditya\n",
            "<class 'str'>\n",
            "Hey! Aditya\n"
          ]
        }
      ]
    },
    {
      "cell_type": "code",
      "source": [
        "age = int(input(\"Enter your age: \")) # type casting"
      ],
      "metadata": {
        "colab": {
          "base_uri": "https://localhost:8080/"
        },
        "id": "sXXeVabS0L-0",
        "outputId": "31581300-299e-45c2-abd9-3640c595e74c"
      },
      "execution_count": null,
      "outputs": [
        {
          "name": "stdout",
          "output_type": "stream",
          "text": [
            "Enter your age: 12\n"
          ]
        }
      ]
    },
    {
      "cell_type": "code",
      "source": [
        "new = age + 1\n",
        "name = input(\"Enter your name: \")\n",
        "print(f\"Hey! {name} Next year you will be {new}\")"
      ],
      "metadata": {
        "colab": {
          "base_uri": "https://localhost:8080/"
        },
        "id": "eo5-0Q3u5g0q",
        "outputId": "025f1e55-d03f-4cc3-f9b9-c81b7ad5d7e3"
      },
      "execution_count": null,
      "outputs": [
        {
          "output_type": "stream",
          "name": "stdout",
          "text": [
            "Enter your name: Aditya\n",
            "Hey! Aditya Next year you will be 11\n"
          ]
        }
      ]
    },
    {
      "cell_type": "code",
      "source": [
        "type(age)"
      ],
      "metadata": {
        "colab": {
          "base_uri": "https://localhost:8080/"
        },
        "id": "Per8L7YV0EdL",
        "outputId": "f27bdc53-3ff5-45cc-b593-e58f9504f8cc"
      },
      "execution_count": null,
      "outputs": [
        {
          "output_type": "execute_result",
          "data": {
            "text/plain": [
              "str"
            ]
          },
          "metadata": {},
          "execution_count": 97
        }
      ]
    },
    {
      "cell_type": "code",
      "source": [
        "age = input(\"Enter your age: \") # without type casting\n",
        "new = age + \"1\" # String concat\n",
        "name = input(\"Enter your name: \")\n",
        "print(f\"Hey! {name} Next year you will be {new}\")"
      ],
      "metadata": {
        "colab": {
          "base_uri": "https://localhost:8080/"
        },
        "id": "MVf_X30bYItX",
        "outputId": "b0ea577f-f2f3-4268-9ee6-62701e34319c"
      },
      "execution_count": null,
      "outputs": [
        {
          "output_type": "stream",
          "name": "stdout",
          "text": [
            "Enter your age: 10\n",
            "Enter your name: Adi\n",
            "Hey! Adi Next year you will be 101\n"
          ]
        }
      ]
    },
    {
      "cell_type": "markdown",
      "source": [
        "### Data Structures in Python"
      ],
      "metadata": {
        "id": "rextkCI48UHs"
      }
    },
    {
      "cell_type": "code",
      "source": [
        "# This is a list\n",
        "new_list = [1, 2.9, \"string\"]\n",
        "print(type(new_list))"
      ],
      "metadata": {
        "colab": {
          "base_uri": "https://localhost:8080/"
        },
        "id": "KvzESz725nPL",
        "outputId": "839bb41f-27b8-4045-8790-0ae7efb7becf"
      },
      "execution_count": null,
      "outputs": [
        {
          "output_type": "stream",
          "name": "stdout",
          "text": [
            "<class 'list'>\n"
          ]
        }
      ]
    },
    {
      "cell_type": "code",
      "source": [
        "new_list"
      ],
      "metadata": {
        "colab": {
          "base_uri": "https://localhost:8080/"
        },
        "id": "-Yly3E3S1hVi",
        "outputId": "122e6f92-20b7-4243-fbfb-f16e3051c06d"
      },
      "execution_count": null,
      "outputs": [
        {
          "output_type": "execute_result",
          "data": {
            "text/plain": [
              "[1, 2.9, 'string']"
            ]
          },
          "metadata": {},
          "execution_count": 133
        }
      ]
    },
    {
      "cell_type": "code",
      "source": [
        "# This is a tuple #mutable and immutable\n",
        "new_tuple = (0, \"string\")\n",
        "print(type(new_tuple))"
      ],
      "metadata": {
        "colab": {
          "base_uri": "https://localhost:8080/"
        },
        "id": "fw2IVb1v6syz",
        "outputId": "ff2f715e-8d53-47db-8582-f19e727e41e0"
      },
      "execution_count": null,
      "outputs": [
        {
          "output_type": "stream",
          "name": "stdout",
          "text": [
            "<class 'tuple'>\n"
          ]
        }
      ]
    },
    {
      "cell_type": "code",
      "source": [
        "!pip install ipython-autotime\n",
        "%load_ext autotime"
      ],
      "metadata": {
        "colab": {
          "base_uri": "https://localhost:8080/"
        },
        "id": "2BpHs9UsvtMf",
        "outputId": "4eeab6af-5306-4165-acbe-c33b1232573a"
      },
      "execution_count": 40,
      "outputs": [
        {
          "output_type": "stream",
          "name": "stdout",
          "text": [
            "Collecting ipython-autotime\n",
            "  Downloading ipython_autotime-0.3.2-py2.py3-none-any.whl (7.0 kB)\n",
            "Requirement already satisfied: ipython in /usr/local/lib/python3.10/dist-packages (from ipython-autotime) (7.34.0)\n",
            "Requirement already satisfied: setuptools>=18.5 in /usr/local/lib/python3.10/dist-packages (from ipython->ipython-autotime) (67.7.2)\n",
            "Collecting jedi>=0.16 (from ipython->ipython-autotime)\n",
            "  Downloading jedi-0.19.1-py2.py3-none-any.whl (1.6 MB)\n",
            "\u001b[2K     \u001b[90m━━━━━━━━━━━━━━━━━━━━━━━━━━━━━━━━━━━━━━━━\u001b[0m \u001b[32m1.6/1.6 MB\u001b[0m \u001b[31m8.0 MB/s\u001b[0m eta \u001b[36m0:00:00\u001b[0m\n",
            "\u001b[?25hRequirement already satisfied: decorator in /usr/local/lib/python3.10/dist-packages (from ipython->ipython-autotime) (4.4.2)\n",
            "Requirement already satisfied: pickleshare in /usr/local/lib/python3.10/dist-packages (from ipython->ipython-autotime) (0.7.5)\n",
            "Requirement already satisfied: traitlets>=4.2 in /usr/local/lib/python3.10/dist-packages (from ipython->ipython-autotime) (5.7.1)\n",
            "Requirement already satisfied: prompt-toolkit!=3.0.0,!=3.0.1,<3.1.0,>=2.0.0 in /usr/local/lib/python3.10/dist-packages (from ipython->ipython-autotime) (3.0.43)\n",
            "Requirement already satisfied: pygments in /usr/local/lib/python3.10/dist-packages (from ipython->ipython-autotime) (2.16.1)\n",
            "Requirement already satisfied: backcall in /usr/local/lib/python3.10/dist-packages (from ipython->ipython-autotime) (0.2.0)\n",
            "Requirement already satisfied: matplotlib-inline in /usr/local/lib/python3.10/dist-packages (from ipython->ipython-autotime) (0.1.6)\n",
            "Requirement already satisfied: pexpect>4.3 in /usr/local/lib/python3.10/dist-packages (from ipython->ipython-autotime) (4.9.0)\n",
            "Requirement already satisfied: parso<0.9.0,>=0.8.3 in /usr/local/lib/python3.10/dist-packages (from jedi>=0.16->ipython->ipython-autotime) (0.8.4)\n",
            "Requirement already satisfied: ptyprocess>=0.5 in /usr/local/lib/python3.10/dist-packages (from pexpect>4.3->ipython->ipython-autotime) (0.7.0)\n",
            "Requirement already satisfied: wcwidth in /usr/local/lib/python3.10/dist-packages (from prompt-toolkit!=3.0.0,!=3.0.1,<3.1.0,>=2.0.0->ipython->ipython-autotime) (0.2.13)\n",
            "Installing collected packages: jedi, ipython-autotime\n",
            "Successfully installed ipython-autotime-0.3.2 jedi-0.19.1\n",
            "time: 542 µs (started: 2024-04-14 13:14:49 +00:00)\n"
          ]
        }
      ]
    },
    {
      "cell_type": "code",
      "source": [
        "num_array = np.array([1, 2, 3])"
      ],
      "metadata": {
        "id": "JfGKw11m2gg7",
        "colab": {
          "base_uri": "https://localhost:8080/"
        },
        "outputId": "24790206-93cb-4947-8ec4-1700a3515a01"
      },
      "execution_count": 43,
      "outputs": [
        {
          "output_type": "stream",
          "name": "stdout",
          "text": [
            "time: 861 µs (started: 2024-04-14 13:15:13 +00:00)\n"
          ]
        }
      ]
    },
    {
      "cell_type": "code",
      "source": [
        "num_array * 2.0 # broadcasting"
      ],
      "metadata": {
        "colab": {
          "base_uri": "https://localhost:8080/"
        },
        "id": "lSfME_27vV8t",
        "outputId": "7030e230-cc0a-4875-8e2a-556ca894bcb8"
      },
      "execution_count": 50,
      "outputs": [
        {
          "output_type": "execute_result",
          "data": {
            "text/plain": [
              "array([2., 4., 6.])"
            ]
          },
          "metadata": {},
          "execution_count": 50
        },
        {
          "output_type": "stream",
          "name": "stdout",
          "text": [
            "time: 10.1 ms (started: 2024-04-14 13:17:42 +00:00)\n"
          ]
        }
      ]
    },
    {
      "cell_type": "code",
      "source": [
        "num_list = [1, 2, 3]"
      ],
      "metadata": {
        "colab": {
          "base_uri": "https://localhost:8080/"
        },
        "id": "7NY6dxXXv73x",
        "outputId": "0f3e4235-fcf7-4078-f3e3-466db692b3b5"
      },
      "execution_count": 46,
      "outputs": [
        {
          "output_type": "stream",
          "name": "stdout",
          "text": [
            "time: 834 µs (started: 2024-04-14 13:15:49 +00:00)\n"
          ]
        }
      ]
    },
    {
      "cell_type": "code",
      "source": [
        "for x in num_list:\n",
        "  print(x*2)"
      ],
      "metadata": {
        "colab": {
          "base_uri": "https://localhost:8080/"
        },
        "id": "I1TaDe7fv_x2",
        "outputId": "0f8605f5-aebc-46c4-df3a-d2e18a33cc40"
      },
      "execution_count": 51,
      "outputs": [
        {
          "output_type": "stream",
          "name": "stdout",
          "text": [
            "2\n",
            "4\n",
            "6\n",
            "time: 2.01 ms (started: 2024-04-14 13:18:25 +00:00)\n"
          ]
        }
      ]
    },
    {
      "cell_type": "code",
      "source": [
        "type(num_array)"
      ],
      "metadata": {
        "colab": {
          "base_uri": "https://localhost:8080/"
        },
        "id": "YNXPAnQG203B",
        "outputId": "380a31d5-f412-410b-9744-e6dbe29e6c5b"
      },
      "execution_count": null,
      "outputs": [
        {
          "output_type": "execute_result",
          "data": {
            "text/plain": [
              "numpy.ndarray"
            ]
          },
          "metadata": {},
          "execution_count": 120
        }
      ]
    },
    {
      "cell_type": "code",
      "source": [
        "new_tuple = (*new_tuple, 10)\n",
        "new_tuple"
      ],
      "metadata": {
        "colab": {
          "base_uri": "https://localhost:8080/"
        },
        "id": "a92_DKgs3AQF",
        "outputId": "6a5c0418-4aa9-42ef-fd49-7f4d505438ed"
      },
      "execution_count": null,
      "outputs": [
        {
          "output_type": "execute_result",
          "data": {
            "text/plain": [
              "(0, 'string', 10)"
            ]
          },
          "metadata": {},
          "execution_count": 132
        }
      ]
    },
    {
      "cell_type": "code",
      "source": [
        "type(new_tuple)"
      ],
      "metadata": {
        "colab": {
          "base_uri": "https://localhost:8080/"
        },
        "id": "Mt3egF873wd5",
        "outputId": "c6f23dc3-22cf-44a7-e990-98c7acd07a19"
      },
      "execution_count": null,
      "outputs": [
        {
          "output_type": "execute_result",
          "data": {
            "text/plain": [
              "tuple"
            ]
          },
          "metadata": {},
          "execution_count": 128
        }
      ]
    },
    {
      "cell_type": "code",
      "source": [
        "my_list = [*new_list, 10]"
      ],
      "metadata": {
        "id": "hGcaVasp1-R8"
      },
      "execution_count": null,
      "outputs": []
    },
    {
      "cell_type": "code",
      "source": [
        "my_list"
      ],
      "metadata": {
        "colab": {
          "base_uri": "https://localhost:8080/"
        },
        "id": "x4ieifFJ2FA4",
        "outputId": "17d8eb03-69d0-4864-d8d2-11549c7c8984"
      },
      "execution_count": null,
      "outputs": [
        {
          "output_type": "execute_result",
          "data": {
            "text/plain": [
              "[1, 2.9, 'string', 10]"
            ]
          },
          "metadata": {},
          "execution_count": 135
        }
      ]
    },
    {
      "cell_type": "code",
      "source": [
        "new_list"
      ],
      "metadata": {
        "colab": {
          "base_uri": "https://localhost:8080/"
        },
        "id": "Zk65vFUL2Hhj",
        "outputId": "c99300aa-6f85-4bc6-b81c-b68196d58342"
      },
      "execution_count": null,
      "outputs": [
        {
          "output_type": "execute_result",
          "data": {
            "text/plain": [
              "[1, 2.9, 'string']"
            ]
          },
          "metadata": {},
          "execution_count": 115
        }
      ]
    },
    {
      "cell_type": "code",
      "source": [
        "# This is a dictionary -> key-value pairs\n",
        "\"\"\"\n",
        "dict = {\n",
        "  key1 : \"value1\",\n",
        "  key2: \"value2\"\n",
        "}\n",
        "\n",
        "\"\"\"\n",
        "new_dict = { 1 : \"Value1\",\n",
        "             2 : \"Value2\",\n",
        "             3 : \"Value2\"\n",
        "           }\n",
        "print(new_dict)\n",
        "print(type(new_dict))"
      ],
      "metadata": {
        "colab": {
          "base_uri": "https://localhost:8080/"
        },
        "id": "p2hxdd468qUb",
        "outputId": "3f42227f-6f29-4c88-c18f-2f2fb7d57b78"
      },
      "execution_count": null,
      "outputs": [
        {
          "output_type": "stream",
          "name": "stdout",
          "text": [
            "{1: 'Value1', 2: 'Value2', 3: 'Value2'}\n",
            "<class 'dict'>\n"
          ]
        }
      ]
    },
    {
      "cell_type": "code",
      "source": [
        "new_dict[2] #dict_var[key] = value"
      ],
      "metadata": {
        "colab": {
          "base_uri": "https://localhost:8080/",
          "height": 35
        },
        "id": "YfscH9-laEwQ",
        "outputId": "782454d5-9a4c-439b-ede1-7f7d4adddfe2"
      },
      "execution_count": null,
      "outputs": [
        {
          "output_type": "execute_result",
          "data": {
            "text/plain": [
              "'Value3'"
            ],
            "application/vnd.google.colaboratory.intrinsic+json": {
              "type": "string"
            }
          },
          "metadata": {},
          "execution_count": 142
        }
      ]
    },
    {
      "cell_type": "code",
      "source": [
        "{3 : new_dict[3]}"
      ],
      "metadata": {
        "colab": {
          "base_uri": "https://localhost:8080/"
        },
        "id": "0T-uUM4mpcWg",
        "outputId": "4cdeed82-6b64-47ca-fd10-9851d0071b5b"
      },
      "execution_count": null,
      "outputs": [
        {
          "output_type": "execute_result",
          "data": {
            "text/plain": [
              "{3: 'Value3'}"
            ]
          },
          "metadata": {},
          "execution_count": 145
        }
      ]
    },
    {
      "cell_type": "code",
      "source": [
        "new_dict.keys()"
      ],
      "metadata": {
        "colab": {
          "base_uri": "https://localhost:8080/"
        },
        "id": "X6yuGd6C6bjm",
        "outputId": "ef133065-af28-4586-cba5-fab5a6e77ace"
      },
      "execution_count": null,
      "outputs": [
        {
          "output_type": "execute_result",
          "data": {
            "text/plain": [
              "dict_keys([1, 2, 3])"
            ]
          },
          "metadata": {},
          "execution_count": 147
        }
      ]
    },
    {
      "cell_type": "code",
      "source": [
        "list(new_dict.keys())"
      ],
      "metadata": {
        "colab": {
          "base_uri": "https://localhost:8080/"
        },
        "id": "UgDvS4bQa6KN",
        "outputId": "820a5af1-4b13-4d56-f594-32f066ab9a60"
      },
      "execution_count": null,
      "outputs": [
        {
          "output_type": "execute_result",
          "data": {
            "text/plain": [
              "[1, 2, 3]"
            ]
          },
          "metadata": {},
          "execution_count": 146
        }
      ]
    },
    {
      "cell_type": "code",
      "source": [
        "list(new_dict.keys())[1]"
      ],
      "metadata": {
        "colab": {
          "base_uri": "https://localhost:8080/"
        },
        "id": "4Vs73Il069Bd",
        "outputId": "eacf0dc4-ccea-4f2d-d23d-3f5ea7a46977"
      },
      "execution_count": null,
      "outputs": [
        {
          "output_type": "execute_result",
          "data": {
            "text/plain": [
              "2"
            ]
          },
          "metadata": {},
          "execution_count": 153
        }
      ]
    },
    {
      "cell_type": "code",
      "source": [
        "list(new_dict.keys())[list(new_dict.values()).index(\"Value2\")]"
      ],
      "metadata": {
        "colab": {
          "base_uri": "https://localhost:8080/"
        },
        "id": "pXOXiGb86uN5",
        "outputId": "144592cd-4fc1-43d0-8e69-1a0e042ac735"
      },
      "execution_count": null,
      "outputs": [
        {
          "output_type": "execute_result",
          "data": {
            "text/plain": [
              "2"
            ]
          },
          "metadata": {},
          "execution_count": 152
        }
      ]
    },
    {
      "cell_type": "code",
      "source": [
        "list(new_dict.values()).index(\"Value2\")"
      ],
      "metadata": {
        "colab": {
          "base_uri": "https://localhost:8080/"
        },
        "id": "yWCQtu5EaUs3",
        "outputId": "e2462af0-fa4c-433d-f3bf-8c34b7dbb978"
      },
      "execution_count": null,
      "outputs": [
        {
          "output_type": "execute_result",
          "data": {
            "text/plain": [
              "1"
            ]
          },
          "metadata": {},
          "execution_count": 158
        }
      ]
    },
    {
      "cell_type": "code",
      "source": [
        "list(new_dict.keys())[list(new_dict.values()).index(\"Value2\")] # finding key from value"
      ],
      "metadata": {
        "colab": {
          "base_uri": "https://localhost:8080/"
        },
        "id": "KZz-rt78nGuf",
        "outputId": "7cfd3f80-fbe9-4e0e-e66b-e0628ac6d51b"
      },
      "execution_count": null,
      "outputs": [
        {
          "output_type": "execute_result",
          "data": {
            "text/plain": [
              "2"
            ]
          },
          "metadata": {},
          "execution_count": 66
        }
      ]
    },
    {
      "cell_type": "code",
      "source": [
        "b"
      ],
      "metadata": {
        "colab": {
          "base_uri": "https://localhost:8080/"
        },
        "id": "choWGPbs9DJg",
        "outputId": "184cc859-66aa-4e3d-de7b-b585149bf840"
      },
      "execution_count": null,
      "outputs": [
        {
          "output_type": "execute_result",
          "data": {
            "text/plain": [
              "13.0"
            ]
          },
          "metadata": {},
          "execution_count": 166
        }
      ]
    },
    {
      "cell_type": "code",
      "source": [
        "# Dict of dict\n",
        "\n",
        "nested_dict = { 1 : (\"name1\", \"name2\"),\n",
        "             2 : [100, 111, 222],\n",
        "             3 : {\"a\" : \"dict_val1\",\n",
        "                  \"b\" : \"dict_val2\",\n",
        "                  }\n",
        "           }\n",
        "\n",
        "print(nested_dict)\n",
        "print(type(nested_dict))"
      ],
      "metadata": {
        "colab": {
          "base_uri": "https://localhost:8080/"
        },
        "id": "4JXxqHjz8Hz4",
        "outputId": "c3e0bc60-b869-4739-faf3-f96af7343b60"
      },
      "execution_count": null,
      "outputs": [
        {
          "output_type": "stream",
          "name": "stdout",
          "text": [
            "{1: ('name1', 'name2'), 2: [100, 111, 222], 3: {'a': 'dict_val1', 'b': 'dict_val2'}}\n",
            "<class 'dict'>\n"
          ]
        }
      ]
    },
    {
      "cell_type": "code",
      "source": [
        "print(len([1, 1, 4, 4, 4, 9, 9, 16, 25, 25, 25]))"
      ],
      "metadata": {
        "colab": {
          "base_uri": "https://localhost:8080/"
        },
        "id": "hvPJrUDI9Y6K",
        "outputId": "b90f8bb0-2d81-409d-a66f-de8b378c0c37"
      },
      "execution_count": null,
      "outputs": [
        {
          "output_type": "stream",
          "name": "stdout",
          "text": [
            "11\n"
          ]
        }
      ]
    },
    {
      "cell_type": "code",
      "source": [
        "set([1, 1, 4, 4, 4, 9, 9, 16, 25, 25, 25])"
      ],
      "metadata": {
        "id": "Ad0uOcN0oXIM",
        "colab": {
          "base_uri": "https://localhost:8080/"
        },
        "outputId": "f14a39bb-287a-4bcd-f303-e6e753789c24"
      },
      "execution_count": null,
      "outputs": [
        {
          "output_type": "execute_result",
          "data": {
            "text/plain": [
              "{1, 4, 9, 16, 25}"
            ]
          },
          "metadata": {},
          "execution_count": 171
        }
      ]
    },
    {
      "cell_type": "code",
      "source": [
        "# This is a set\n",
        "setA = set([1, 1, 4, 4, 4, 9, 9, 16, 25, 25, 25])\n",
        "print(set(\"Hello\"))\n",
        "print(len(setA))\n",
        "print(len([1, 1, 4, 4, 4, 9, 9, 16, 25, 25, 25]))\n",
        "print(type(setA))"
      ],
      "metadata": {
        "colab": {
          "base_uri": "https://localhost:8080/"
        },
        "id": "hGDQo6128--k",
        "outputId": "c9370e02-9aad-4529-b345-c21b8190c6a2"
      },
      "execution_count": null,
      "outputs": [
        {
          "output_type": "stream",
          "name": "stdout",
          "text": [
            "{'H', 'l', 'o', 'e'}\n",
            "5\n",
            "11\n",
            "<class 'set'>\n"
          ]
        }
      ]
    },
    {
      "cell_type": "code",
      "source": [
        "set(new_dict.values())"
      ],
      "metadata": {
        "colab": {
          "base_uri": "https://localhost:8080/"
        },
        "id": "eDYpycml-QB1",
        "outputId": "90b4ffc2-4f8e-4807-82f0-ffc30a025432"
      },
      "execution_count": null,
      "outputs": [
        {
          "output_type": "execute_result",
          "data": {
            "text/plain": [
              "{'Value1', 'Value2'}"
            ]
          },
          "metadata": {},
          "execution_count": 175
        }
      ]
    },
    {
      "cell_type": "code",
      "source": [
        "var_1 = None # ~ null\n",
        "type(var_1)"
      ],
      "metadata": {
        "colab": {
          "base_uri": "https://localhost:8080/"
        },
        "id": "pXIJXCDe-xi9",
        "outputId": "edeb5492-f215-446d-9232-2d052cf771e5"
      },
      "execution_count": null,
      "outputs": [
        {
          "output_type": "execute_result",
          "data": {
            "text/plain": [
              "NoneType"
            ]
          },
          "metadata": {},
          "execution_count": 176
        }
      ]
    },
    {
      "cell_type": "markdown",
      "source": [
        "### Control Structures and functions in Python"
      ],
      "metadata": {
        "id": "ZVQC77U69srR"
      }
    },
    {
      "cell_type": "code",
      "source": [
        "60 >= 60"
      ],
      "metadata": {
        "colab": {
          "base_uri": "https://localhost:8080/"
        },
        "id": "29fSea-E_sfb",
        "outputId": "a4ff8a32-f21d-4f85-ba7d-87f6855fbd27"
      },
      "execution_count": null,
      "outputs": [
        {
          "output_type": "execute_result",
          "data": {
            "text/plain": [
              "True"
            ]
          },
          "metadata": {},
          "execution_count": 178
        }
      ]
    },
    {
      "cell_type": "code",
      "source": [
        "# if-elif-else\n",
        "score = 60\n",
        "grade = None\n",
        "print(type(None))\n",
        "\n",
        "if score >= 80: #if condition:\n",
        "  grade = 'A'\n",
        "elif score > 60:\n",
        "  grade = 'B'\n",
        "elif score > 40:\n",
        "  grade = 'C'\n",
        "else:\n",
        "  grade = 'F'\n",
        "\n",
        "print(grade)"
      ],
      "metadata": {
        "colab": {
          "base_uri": "https://localhost:8080/"
        },
        "id": "PSllaqyo9O1L",
        "outputId": "e713954f-1ebf-4fdc-f3f2-d310ae25927a"
      },
      "execution_count": null,
      "outputs": [
        {
          "output_type": "stream",
          "name": "stdout",
          "text": [
            "<class 'NoneType'>\n",
            "C\n"
          ]
        }
      ]
    },
    {
      "cell_type": "code",
      "source": [
        "for item in [1, 2, 3, 4, 5]:\n",
        "  print(item)"
      ],
      "metadata": {
        "colab": {
          "base_uri": "https://localhost:8080/"
        },
        "id": "8ClYUZpuAR5B",
        "outputId": "54b1bb3e-398d-43f1-eecd-f452ef2bed01"
      },
      "execution_count": null,
      "outputs": [
        {
          "output_type": "stream",
          "name": "stdout",
          "text": [
            "1\n",
            "2\n",
            "3\n",
            "4\n",
            "5\n"
          ]
        }
      ]
    },
    {
      "cell_type": "code",
      "source": [
        "list(range(18, 25, 1))"
      ],
      "metadata": {
        "colab": {
          "base_uri": "https://localhost:8080/"
        },
        "id": "SgxwMcSABrJb",
        "outputId": "201a0bcf-a403-4ecf-9938-cb2ecc50048b"
      },
      "execution_count": null,
      "outputs": [
        {
          "output_type": "execute_result",
          "data": {
            "text/plain": [
              "[18, 19, 20, 21, 22, 23, 24]"
            ]
          },
          "metadata": {},
          "execution_count": 187
        }
      ]
    },
    {
      "cell_type": "code",
      "source": [
        "# loops\n",
        "# for loops\n",
        "#age = 20\n",
        "#print(list(range(18, 25)))\n",
        "i = 0\n",
        "for item in range(18, 25, 2):\n",
        "  print(item)\n",
        "  i+=1 # i = i + 1\n",
        "  break\n",
        "\n",
        "print(f\"Iteration: {i}\")\n",
        "print(\"finished\")"
      ],
      "metadata": {
        "colab": {
          "base_uri": "https://localhost:8080/"
        },
        "id": "mIlc3V7K9wkF",
        "outputId": "b984d397-524c-45b0-bbd2-dbd176bec2aa"
      },
      "execution_count": null,
      "outputs": [
        {
          "output_type": "stream",
          "name": "stdout",
          "text": [
            "18\n",
            "Iteration: 1\n",
            "finished\n"
          ]
        }
      ]
    },
    {
      "cell_type": "code",
      "source": [
        "vowels = ['a', 'e', 'i', 'o', 'u']\n",
        "text = \"Ice cream\"\n",
        "vowel_counter = 0\n",
        "\n",
        "# for i in text:\n",
        "for i in range(0, len(text)):\n",
        "  if text[i].lower() in vowels: #instead of text[i] -> i => element is in a list\n",
        "    vowel_counter += 1 #vc = vc + 1\n",
        "\n",
        "print(vowel_counter)"
      ],
      "metadata": {
        "colab": {
          "base_uri": "https://localhost:8080/"
        },
        "id": "Sjn65m9uEQOd",
        "outputId": "c2d68c0b-7025-4324-986f-e86764c379ec"
      },
      "execution_count": null,
      "outputs": [
        {
          "output_type": "stream",
          "name": "stdout",
          "text": [
            "4\n"
          ]
        }
      ]
    },
    {
      "cell_type": "code",
      "source": [
        "len(vowels)"
      ],
      "metadata": {
        "colab": {
          "base_uri": "https://localhost:8080/"
        },
        "id": "jAizd6-1urrZ",
        "outputId": "72f23d3e-c851-4c30-80d9-df8fb07b4977"
      },
      "execution_count": null,
      "outputs": [
        {
          "output_type": "execute_result",
          "data": {
            "text/plain": [
              "5"
            ]
          },
          "metadata": {},
          "execution_count": 224
        }
      ]
    },
    {
      "cell_type": "code",
      "source": [
        "# while loops\n",
        "a = 8\n",
        "while (a > 5):\n",
        "  print(f\"{a} is greater than 5\")\n",
        "  a -=1"
      ],
      "metadata": {
        "colab": {
          "base_uri": "https://localhost:8080/"
        },
        "id": "45m-xpxUEW-i",
        "outputId": "a63d1b16-ab87-4207-a664-2ec19024e8a8"
      },
      "execution_count": null,
      "outputs": [
        {
          "output_type": "stream",
          "name": "stdout",
          "text": [
            "8 is greater than 5\n",
            "7 is greater than 5\n",
            "6 is greater than 5\n"
          ]
        }
      ]
    },
    {
      "cell_type": "code",
      "source": [
        "# List comprehension\n",
        "num_list = [1, 2, 3, 7]\n",
        "cube_list = [i**3 for i in num_list]\n",
        "print(cube_list)\n",
        "\n",
        "# conditionals in list comprehensions\n",
        "even_cubes = [i**3 for i in num_list if i%2 == 0]\n",
        "print(even_cubes)\n",
        "\n",
        "sq_cubes = [i**3 if i%2==0 else i**2 for i in num_list ]\n",
        "print(sq_cubes)"
      ],
      "metadata": {
        "colab": {
          "base_uri": "https://localhost:8080/"
        },
        "id": "oBY5Kk3i90X7",
        "outputId": "5b4d15fa-638c-47dd-ded6-aca0cfc5e0b6"
      },
      "execution_count": null,
      "outputs": [
        {
          "output_type": "stream",
          "name": "stdout",
          "text": [
            "[1, 8, 27, 343]\n",
            "[8]\n",
            "[1, 8, 9, 49]\n"
          ]
        }
      ]
    },
    {
      "cell_type": "markdown",
      "source": [
        "### Ungraded Assignments\n",
        "1. Python program to print Fibonacci series of any input 'n'\n",
        "2. Python program to check if a string is Palindrome or not"
      ],
      "metadata": {
        "id": "19trRpfz-kNA"
      }
    },
    {
      "cell_type": "markdown",
      "source": [
        "## Part 2"
      ],
      "metadata": {
        "id": "5bsrMTaBoygJ"
      }
    },
    {
      "cell_type": "code",
      "source": [
        "num_list = [1, 2, 3, 7]"
      ],
      "metadata": {
        "id": "kvYWMgcfhJML",
        "colab": {
          "base_uri": "https://localhost:8080/"
        },
        "outputId": "8a7a9090-1085-4984-a444-0da886462e44"
      },
      "execution_count": 53,
      "outputs": [
        {
          "output_type": "stream",
          "name": "stdout",
          "text": [
            "time: 695 µs (started: 2024-04-14 13:25:25 +00:00)\n"
          ]
        }
      ]
    },
    {
      "cell_type": "code",
      "source": [
        "# Functions\n",
        "def my_func(i):\n",
        "  if i%2 == 0:\n",
        "    return i**3\n",
        "  else:\n",
        "    return i**2"
      ],
      "metadata": {
        "colab": {
          "base_uri": "https://localhost:8080/"
        },
        "id": "LF20Yb1399qs",
        "outputId": "84f1bba4-37c3-4e58-8e29-eee1cd29fac6",
        "collapsed": true
      },
      "execution_count": 57,
      "outputs": [
        {
          "output_type": "stream",
          "name": "stdout",
          "text": [
            "time: 1.09 ms (started: 2024-04-14 13:28:05 +00:00)\n"
          ]
        }
      ]
    },
    {
      "cell_type": "code",
      "source": [
        "print(my_func(5))"
      ],
      "metadata": {
        "colab": {
          "base_uri": "https://localhost:8080/"
        },
        "id": "UhzNwPT2yXA5",
        "outputId": "a3a36c81-992e-4e1e-9a34-84d4d64e8a29"
      },
      "execution_count": 59,
      "outputs": [
        {
          "output_type": "stream",
          "name": "stdout",
          "text": [
            "25\n",
            "time: 800 µs (started: 2024-04-14 13:29:17 +00:00)\n"
          ]
        }
      ]
    },
    {
      "cell_type": "code",
      "source": [
        "def my_func(i):\n",
        "  a = 0\n",
        "  if i%2 == 0:\n",
        "    a = i**3\n",
        "  else:\n",
        "    a = i**2\n",
        "  return {\"a\" : a}"
      ],
      "metadata": {
        "colab": {
          "base_uri": "https://localhost:8080/"
        },
        "id": "FfTXkPGYzO-6",
        "outputId": "aeccf56c-307d-40bc-e2ba-b1a02f42379e"
      },
      "execution_count": 75,
      "outputs": [
        {
          "output_type": "stream",
          "name": "stdout",
          "text": [
            "time: 822 µs (started: 2024-04-14 13:38:02 +00:00)\n"
          ]
        }
      ]
    },
    {
      "cell_type": "code",
      "source": [
        "output_func = my_func(5)\n",
        "print(output_func)"
      ],
      "metadata": {
        "colab": {
          "base_uri": "https://localhost:8080/"
        },
        "id": "rxEWayPvzXGi",
        "outputId": "385f74de-056f-450a-fa3d-d06926c0ad62"
      },
      "execution_count": 76,
      "outputs": [
        {
          "output_type": "stream",
          "name": "stdout",
          "text": [
            "{'a': 25}\n",
            "time: 698 µs (started: 2024-04-14 13:38:03 +00:00)\n"
          ]
        }
      ]
    },
    {
      "cell_type": "code",
      "source": [
        "output_func"
      ],
      "metadata": {
        "colab": {
          "base_uri": "https://localhost:8080/"
        },
        "id": "ZHFKNTaL0gGE",
        "outputId": "28ab7b5e-9a7e-4dfd-f9c3-be75339b0cba"
      },
      "execution_count": 69,
      "outputs": [
        {
          "output_type": "stream",
          "name": "stdout",
          "text": [
            "time: 781 µs (started: 2024-04-14 13:35:37 +00:00)\n"
          ]
        }
      ]
    },
    {
      "cell_type": "code",
      "source": [
        "# Functions\n",
        "def my_func(i):\n",
        "  if i%2 == 0:\n",
        "    return i**3\n",
        "  else:\n",
        "    pass\n",
        "\n",
        "for i in num_list:\n",
        "  print(my_func(i))"
      ],
      "metadata": {
        "colab": {
          "base_uri": "https://localhost:8080/"
        },
        "collapsed": true,
        "id": "WjiSyVt4o7zS",
        "outputId": "d4664b45-e551-4700-cb11-cdb73888520f"
      },
      "execution_count": 62,
      "outputs": [
        {
          "output_type": "stream",
          "name": "stdout",
          "text": [
            "None\n",
            "8\n",
            "None\n",
            "None\n",
            "time: 5.06 ms (started: 2024-04-14 13:32:12 +00:00)\n"
          ]
        }
      ]
    },
    {
      "cell_type": "code",
      "source": [
        "# Lambda functions - is an anonymous function, which means that it is a function without a name.\n",
        "transform_x = lambda x : x**3 if(x%2 == 0) else x**2\n",
        "\n",
        "for i in num_list:\n",
        "  print(transform_x(i))\n",
        "  #print((lambda x : x**3 if(x%2 == 0) else x**2)(i))"
      ],
      "metadata": {
        "colab": {
          "base_uri": "https://localhost:8080/"
        },
        "id": "3h676VOk-TAe",
        "outputId": "18243264-bd1e-4d32-dd59-a36ad74aa96f",
        "collapsed": true
      },
      "execution_count": 82,
      "outputs": [
        {
          "output_type": "stream",
          "name": "stdout",
          "text": [
            "1\n",
            "8\n",
            "9\n",
            "49\n",
            "time: 3.96 ms (started: 2024-04-14 13:43:01 +00:00)\n"
          ]
        }
      ]
    },
    {
      "cell_type": "code",
      "source": [
        "# Map, Filter, Reduce\n",
        "\"\"\"\n",
        "Map is a function that works like list comprehensions and for loops.\n",
        "It is used when you need to map or implement functions\n",
        "on various elements at the same time.\n",
        "\"\"\"\n",
        "print(\"Transforming num_list using map function : \")\n",
        "print(list(map(transform_x, num_list)))\n"
      ],
      "metadata": {
        "colab": {
          "base_uri": "https://localhost:8080/"
        },
        "id": "SItUhB0f-VAb",
        "outputId": "1b4e9204-a422-48c0-b3b4-a627dd13c7fd",
        "collapsed": true
      },
      "execution_count": 83,
      "outputs": [
        {
          "output_type": "stream",
          "name": "stdout",
          "text": [
            "Transforming num_list using map function : \n",
            "[1, 8, 9, 49]\n",
            "time: 1.74 ms (started: 2024-04-14 13:46:24 +00:00)\n"
          ]
        }
      ]
    },
    {
      "cell_type": "code",
      "source": [
        "\"\"\"\n",
        "Filter is a similar operation, but it requires the function to look for a condition\n",
        "and then, only returns those elements from the collection that satisfy the condition.\n",
        "\"\"\"\n",
        "print(\"Extracting odd elements using filter : \", end=\"\")\n",
        "print(list(filter(lambda x: x%2 !=0, num_list)))\n",
        "\n"
      ],
      "metadata": {
        "colab": {
          "base_uri": "https://localhost:8080/"
        },
        "id": "WNkkt1OlyCY9",
        "outputId": "7240928e-b7ad-44cd-b96b-456ea6861d31",
        "collapsed": true
      },
      "execution_count": 84,
      "outputs": [
        {
          "output_type": "stream",
          "name": "stdout",
          "text": [
            "Extracting odd elements using filter : [1, 3, 7]\n",
            "time: 4.4 ms (started: 2024-04-14 13:48:04 +00:00)\n"
          ]
        }
      ]
    },
    {
      "cell_type": "code",
      "source": [
        "\"\"\"\n",
        "'Reduce' is an operation that breaks down the entire process\n",
        "into pair-wise operations\n",
        "and uses the result from each operation, with the successive element.\n",
        "\"\"\"\n",
        "from functools import reduce\n",
        "\n",
        "# using reduce to compute maximum element from list\n",
        "print(\"The maximum element of the list is : \", end=\"\")\n",
        "print(reduce(lambda a, b: a if a > b else b, num_list))"
      ],
      "metadata": {
        "colab": {
          "base_uri": "https://localhost:8080/"
        },
        "id": "ebPPO0rCyU8O",
        "outputId": "688f445a-be24-4990-bc20-6c681fed462a",
        "collapsed": true
      },
      "execution_count": 85,
      "outputs": [
        {
          "output_type": "stream",
          "name": "stdout",
          "text": [
            "The maximum element of the list is : 7\n",
            "time: 2.85 ms (started: 2024-04-14 13:49:17 +00:00)\n"
          ]
        }
      ]
    },
    {
      "cell_type": "code",
      "source": [
        "max(num_list)"
      ],
      "metadata": {
        "colab": {
          "base_uri": "https://localhost:8080/"
        },
        "id": "40AQMATDk0_4",
        "outputId": "ebf2535f-2b52-4b6a-ec2e-b06bb351d3b0",
        "collapsed": true
      },
      "execution_count": 89,
      "outputs": [
        {
          "output_type": "execute_result",
          "data": {
            "text/plain": [
              "7"
            ]
          },
          "metadata": {},
          "execution_count": 89
        },
        {
          "output_type": "stream",
          "name": "stdout",
          "text": [
            "time: 8.78 ms (started: 2024-04-14 13:51:29 +00:00)\n"
          ]
        }
      ]
    },
    {
      "cell_type": "code",
      "source": [
        "# All and Any Built-in Functions"
      ],
      "metadata": {
        "id": "o1W2ASOJhJci"
      },
      "execution_count": 1,
      "outputs": []
    },
    {
      "cell_type": "code",
      "source": [
        "x = (1, 2, 3, 4, 5) # tuple\n",
        "x[0:3]"
      ],
      "metadata": {
        "colab": {
          "base_uri": "https://localhost:8080/"
        },
        "collapsed": true,
        "id": "Qk0dLcY6h2Aw",
        "outputId": "45dc1954-a301-4107-c6b7-b7d71c50232d"
      },
      "execution_count": 94,
      "outputs": [
        {
          "output_type": "execute_result",
          "data": {
            "text/plain": [
              "(1, 2, 3)"
            ]
          },
          "metadata": {},
          "execution_count": 94
        },
        {
          "output_type": "stream",
          "name": "stdout",
          "text": [
            "time: 6.18 ms (started: 2024-04-14 14:01:39 +00:00)\n"
          ]
        }
      ]
    },
    {
      "cell_type": "code",
      "source": [
        "# True, as all items in x are greater than zero # AND - OR: x and y; x or y\n",
        "all(item>0 for item in x)"
      ],
      "metadata": {
        "colab": {
          "base_uri": "https://localhost:8080/"
        },
        "collapsed": true,
        "id": "oAASwj_Vh7dr",
        "outputId": "ea2cd6dd-195d-4a59-de7d-b11c294e4944"
      },
      "execution_count": 95,
      "outputs": [
        {
          "output_type": "execute_result",
          "data": {
            "text/plain": [
              "True"
            ]
          },
          "metadata": {},
          "execution_count": 95
        },
        {
          "output_type": "stream",
          "name": "stdout",
          "text": [
            "time: 3.88 ms (started: 2024-04-14 14:01:42 +00:00)\n"
          ]
        }
      ]
    },
    {
      "cell_type": "code",
      "source": [
        "# False, as all items in x are not greater than 4\n",
        "all(item>4 for item in x) # comparable to AND gates; & logical operator"
      ],
      "metadata": {
        "colab": {
          "base_uri": "https://localhost:8080/"
        },
        "collapsed": true,
        "id": "UBlnz2ObiBnF",
        "outputId": "61630813-171a-4bcf-8e67-3e797bf49d02"
      },
      "execution_count": 96,
      "outputs": [
        {
          "output_type": "execute_result",
          "data": {
            "text/plain": [
              "False"
            ]
          },
          "metadata": {},
          "execution_count": 96
        },
        {
          "output_type": "stream",
          "name": "stdout",
          "text": [
            "time: 4.46 ms (started: 2024-04-14 14:02:18 +00:00)\n"
          ]
        }
      ]
    },
    {
      "cell_type": "code",
      "source": [
        "# True, as some items in x are greater than 4\n",
        "any(item>4 for item in x) # comparable OR gates"
      ],
      "metadata": {
        "colab": {
          "base_uri": "https://localhost:8080/"
        },
        "collapsed": true,
        "id": "kR63ZWCDiFjZ",
        "outputId": "23cad362-5cf9-4a49-a3a2-622ac6c00490"
      },
      "execution_count": 97,
      "outputs": [
        {
          "output_type": "execute_result",
          "data": {
            "text/plain": [
              "True"
            ]
          },
          "metadata": {},
          "execution_count": 97
        },
        {
          "output_type": "stream",
          "name": "stdout",
          "text": [
            "time: 3.74 ms (started: 2024-04-14 14:02:32 +00:00)\n"
          ]
        }
      ]
    },
    {
      "cell_type": "code",
      "source": [
        "# Additional List Operations"
      ],
      "metadata": {
        "id": "5MoZU8loiIT5"
      },
      "execution_count": 6,
      "outputs": []
    },
    {
      "cell_type": "code",
      "source": [
        "s = [1, 2, 3]\n",
        "s.append(4)\n",
        "print(f\"First output: {s}\")\n",
        "\n",
        "s.append([3, 4])\n",
        "print(f\"Second output: {s}\")\n",
        "\n",
        "x = [1, 2, 3, 1, 1]\n",
        "x.extend([1, 5])\n",
        "print(f\"Third output: {x}\")"
      ],
      "metadata": {
        "colab": {
          "base_uri": "https://localhost:8080/"
        },
        "collapsed": true,
        "id": "HqVDwNgniaHC",
        "outputId": "d6dfc3ac-b698-4002-e277-9a4a746de05c"
      },
      "execution_count": 106,
      "outputs": [
        {
          "output_type": "stream",
          "name": "stdout",
          "text": [
            "First output: [1, 2, 3, 4]\n",
            "Second output: [1, 2, 3, 4, [3, 4]]\n",
            "Third output: [1, 2, 3, 1, 1, 1, 5]\n",
            "time: 1.24 ms (started: 2024-04-14 14:11:35 +00:00)\n"
          ]
        }
      ]
    },
    {
      "cell_type": "code",
      "source": [
        "x.count(1) # Counts occurences of the item in the list\n",
        "print(f\"Count method output: {x.count(1)}\")\n",
        "\n",
        "\n",
        "x.index(3) # Returns the position of the item in the list\n",
        "print(f\"Index method output: {x.index(1)}\")"
      ],
      "metadata": {
        "colab": {
          "base_uri": "https://localhost:8080/"
        },
        "collapsed": true,
        "id": "TB2kQ_7RjBUG",
        "outputId": "c489892e-97f6-4627-d052-48da538112eb"
      },
      "execution_count": 102,
      "outputs": [
        {
          "output_type": "stream",
          "name": "stdout",
          "text": [
            "Count method output: 4\n",
            "Index method output: 0\n",
            "time: 2.82 ms (started: 2024-04-14 14:09:31 +00:00)\n"
          ]
        }
      ]
    },
    {
      "cell_type": "code",
      "source": [
        "print(x)\n",
        "# Insertion in list\n",
        "x.insert(2, -10)\n",
        "print(x)\n",
        "\n",
        "# Deletion from list\n",
        "x.pop() # pops the element index i. If ‘i’ is ommited then last value popped out\n",
        "print(x)\n",
        "\n",
        "x.pop(2)\n",
        "print(x)\n",
        "\n",
        "# Removing from an item from a list\n",
        "x.remove(1) # search for first occurrence of item and remove it\n",
        "print(x)\n",
        "# pop vs remove: pop is based on the index; remove is based on the item value"
      ],
      "metadata": {
        "colab": {
          "base_uri": "https://localhost:8080/"
        },
        "id": "ahPziu9GrKs7",
        "outputId": "9c31f439-0d52-474a-ff78-be0c1e1457bf"
      },
      "execution_count": 107,
      "outputs": [
        {
          "output_type": "stream",
          "name": "stdout",
          "text": [
            "[1, 2, 3, 1, 1, 1, 5]\n",
            "[1, 2, -10, 3, 1, 1, 1, 5]\n",
            "[1, 2, -10, 3, 1, 1, 1]\n",
            "[1, 2, 3, 1, 1, 1]\n",
            "[2, 3, 1, 1, 1]\n",
            "time: 1.54 ms (started: 2024-04-14 14:11:39 +00:00)\n"
          ]
        }
      ]
    },
    {
      "cell_type": "code",
      "source": [
        "empty_list = [1, 2, 3]\n",
        "empty_list.remove(5) # Value Error if we try to remove that is not present in the list"
      ],
      "metadata": {
        "colab": {
          "base_uri": "https://localhost:8080/",
          "height": 176
        },
        "id": "uqKzf2b89gmg",
        "outputId": "2b96278c-47a9-4d63-db42-20c1bbd1f216"
      },
      "execution_count": 109,
      "outputs": [
        {
          "output_type": "error",
          "ename": "ValueError",
          "evalue": "list.remove(x): x not in list",
          "traceback": [
            "\u001b[0;31m---------------------------------------------------------------------------\u001b[0m",
            "\u001b[0;31mValueError\u001b[0m                                Traceback (most recent call last)",
            "\u001b[0;32m<ipython-input-109-8930dc9799bf>\u001b[0m in \u001b[0;36m<cell line: 2>\u001b[0;34m()\u001b[0m\n\u001b[1;32m      1\u001b[0m \u001b[0mempty_list\u001b[0m \u001b[0;34m=\u001b[0m \u001b[0;34m[\u001b[0m\u001b[0;36m1\u001b[0m\u001b[0;34m,\u001b[0m \u001b[0;36m2\u001b[0m\u001b[0;34m,\u001b[0m \u001b[0;36m3\u001b[0m\u001b[0;34m]\u001b[0m\u001b[0;34m\u001b[0m\u001b[0;34m\u001b[0m\u001b[0m\n\u001b[0;32m----> 2\u001b[0;31m \u001b[0mempty_list\u001b[0m\u001b[0;34m.\u001b[0m\u001b[0mremove\u001b[0m\u001b[0;34m(\u001b[0m\u001b[0;36m5\u001b[0m\u001b[0;34m)\u001b[0m\u001b[0;34m\u001b[0m\u001b[0;34m\u001b[0m\u001b[0m\n\u001b[0m",
            "\u001b[0;31mValueError\u001b[0m: list.remove(x): x not in list"
          ]
        },
        {
          "output_type": "stream",
          "name": "stdout",
          "text": [
            "time: 16.5 ms (started: 2024-04-14 14:17:04 +00:00)\n"
          ]
        }
      ]
    },
    {
      "cell_type": "code",
      "source": [
        "# reverse\n",
        "s = [1, 2, 3]\n",
        "print(f\"Original list: {s}\")\n",
        "s.reverse()\n",
        "print(f\"Reversed list:{s}\")"
      ],
      "metadata": {
        "colab": {
          "base_uri": "https://localhost:8080/"
        },
        "collapsed": true,
        "id": "JIH6sOB8jyLR",
        "outputId": "20d543aa-f0be-481f-b7f2-38faa6e0ad36"
      },
      "execution_count": 110,
      "outputs": [
        {
          "output_type": "stream",
          "name": "stdout",
          "text": [
            "Original list: [1, 2, 3]\n",
            "Reversed list:[3, 2, 1]\n",
            "time: 3.04 ms (started: 2024-04-14 14:18:40 +00:00)\n"
          ]
        }
      ]
    },
    {
      "cell_type": "code",
      "source": [
        "str_val = \"hello\"\n",
        "str_val = str_val[::-1]\n",
        "print(str_val)"
      ],
      "metadata": {
        "colab": {
          "base_uri": "https://localhost:8080/"
        },
        "id": "ajD3qDRZ-dOd",
        "outputId": "03ea4715-a0e8-42b0-994b-4a201e7cc86e"
      },
      "execution_count": 112,
      "outputs": [
        {
          "output_type": "stream",
          "name": "stdout",
          "text": [
            "olleh\n",
            "time: 7.97 ms (started: 2024-04-14 14:20:21 +00:00)\n"
          ]
        }
      ]
    },
    {
      "cell_type": "code",
      "source": [
        "num_list = [3, 2, 4, 1]\n",
        "num_list.sort(reverse=False)\n",
        "print(num_list)"
      ],
      "metadata": {
        "colab": {
          "base_uri": "https://localhost:8080/"
        },
        "id": "BA5OyO7f_Eua",
        "outputId": "70049a28-d982-4f90-9855-b39e6f51b301"
      },
      "execution_count": 122,
      "outputs": [
        {
          "output_type": "stream",
          "name": "stdout",
          "text": [
            "[1, 2, 3, 4]\n",
            "time: 2.42 ms (started: 2024-04-14 14:26:01 +00:00)\n"
          ]
        }
      ]
    },
    {
      "cell_type": "code",
      "source": [
        "# Sorting in Python\n",
        "\n",
        "name_age = [ ['Brad', 20], ['Annie', 45], ['Charlie', 25] ]\n",
        "print(name_age)\n",
        "\n",
        "\n",
        "name_age.sort(key=lambda name: name[0]) # sort by name\n",
        "print(name_age)\n",
        "\n",
        "\n",
        "name_age.sort(key=lambda age: age[1]) # sort by age\n",
        "print(name_age)\n",
        "\n",
        "\n",
        "x = []\n",
        "x = name_age.sort(key=lambda age: age[1]) # can not save the output\n",
        "print(x)\n",
        "# nothing is saved in x"
      ],
      "metadata": {
        "colab": {
          "base_uri": "https://localhost:8080/"
        },
        "collapsed": true,
        "id": "8d6S-DtRj8ce",
        "outputId": "56d5931b-cfae-4020-f42e-72f64a706ed3"
      },
      "execution_count": 120,
      "outputs": [
        {
          "output_type": "stream",
          "name": "stdout",
          "text": [
            "[['Brad', 20], ['Annie', 45], ['Charlie', 25]]\n",
            "[['Annie', 45], ['Brad', 20], ['Charlie', 25]]\n",
            "[['Brad', 20], ['Charlie', 25], ['Annie', 45]]\n",
            "None\n",
            "time: 8.41 ms (started: 2024-04-14 14:24:52 +00:00)\n"
          ]
        }
      ]
    },
    {
      "cell_type": "code",
      "source": [
        "# use sorted() to save outputs to another list\n",
        "y = sorted(name_age, key=lambda age: age[1]) # sorted() : by age\n",
        "print(y)\n",
        "\n",
        "y = sorted(name_age, key=lambda name: name[1]) # sorted() : by name\n",
        "print(y)"
      ],
      "metadata": {
        "colab": {
          "base_uri": "https://localhost:8080/"
        },
        "collapsed": true,
        "id": "S4-WyGGRksie",
        "outputId": "719d9cc5-da26-4046-8e4e-111f6ba59289"
      },
      "execution_count": 123,
      "outputs": [
        {
          "output_type": "stream",
          "name": "stdout",
          "text": [
            "[['Brad', 20], ['Charlie', 25], ['Annie', 45]]\n",
            "[['Brad', 20], ['Charlie', 25], ['Annie', 45]]\n",
            "time: 1.28 ms (started: 2024-04-14 14:26:39 +00:00)\n"
          ]
        }
      ]
    },
    {
      "cell_type": "code",
      "source": [
        "# Class and objects\n",
        "\n",
        "class Spam():\n",
        "    \"\"\"\n",
        "    This is a class about Spam counts\n",
        "    \"\"\"\n",
        "    num = 100 # class variable\n",
        "\n",
        "\n",
        "    def __init__(self, number = 3):\n",
        "        '''\n",
        "        This is a constructor - is used for initialising class variables\n",
        "        '''\n",
        "        self.num = number\n",
        "\n",
        "    def imethod(self): # print instance variable\n",
        "        print(\"imethod \", self.num)\n",
        "\n",
        "    @classmethod\n",
        "    def cmethod(cls): # print class variable\n",
        "      print(\"cmethod \", cls.num)"
      ],
      "metadata": {
        "colab": {
          "base_uri": "https://localhost:8080/"
        },
        "id": "V3rPu52tlDG6",
        "outputId": "9e4ea558-0bc1-444f-e178-b2741ecf67a2"
      },
      "execution_count": 161,
      "outputs": [
        {
          "output_type": "stream",
          "name": "stdout",
          "text": [
            "time: 812 µs (started: 2024-04-14 14:56:08 +00:00)\n"
          ]
        }
      ]
    },
    {
      "cell_type": "code",
      "source": [
        "s = Spam(5)\n",
        "# 's' is an instance of the class Spam(). It is referred as the object of the class"
      ],
      "metadata": {
        "colab": {
          "base_uri": "https://localhost:8080/"
        },
        "id": "_2S6l_Yale8B",
        "outputId": "120cb726-ebc5-475e-c1f3-ad8439d8d93e"
      },
      "execution_count": 162,
      "outputs": [
        {
          "output_type": "stream",
          "name": "stdout",
          "text": [
            "time: 667 µs (started: 2024-04-14 14:56:08 +00:00)\n"
          ]
        }
      ]
    },
    {
      "cell_type": "code",
      "source": [
        "s.imethod()"
      ],
      "metadata": {
        "colab": {
          "base_uri": "https://localhost:8080/"
        },
        "collapsed": true,
        "id": "rCVc83Qplyx4",
        "outputId": "45291379-6832-41f8-9d94-9b6804add4c5"
      },
      "execution_count": 163,
      "outputs": [
        {
          "output_type": "stream",
          "name": "stdout",
          "text": [
            "imethod  5\n",
            "time: 759 µs (started: 2024-04-14 14:56:08 +00:00)\n"
          ]
        }
      ]
    },
    {
      "cell_type": "code",
      "source": [
        "s.cmethod()"
      ],
      "metadata": {
        "colab": {
          "base_uri": "https://localhost:8080/"
        },
        "collapsed": true,
        "id": "Ia01fh2El1bW",
        "outputId": "f516fa3e-cad2-4f3b-e787-73d615d1ee5d"
      },
      "execution_count": 132,
      "outputs": [
        {
          "output_type": "stream",
          "name": "stdout",
          "text": [
            "cmethod  100\n",
            "time: 628 µs (started: 2024-04-14 14:44:27 +00:00)\n"
          ]
        }
      ]
    },
    {
      "cell_type": "markdown",
      "source": [
        "### Ungraded Task:\n",
        "\n",
        "Create a Calculator class in python that can add, substract, multiply and divide two numbers"
      ],
      "metadata": {
        "id": "o2S5rnWsmqVN"
      }
    },
    {
      "cell_type": "code",
      "source": [
        "class Calculator():\n",
        "\n",
        "  def add(self, x, y):\n",
        "    return x + y\n",
        "\n",
        "  def substract(self, x, y):\n",
        "    return x - y\n",
        "\n",
        "  def multiply(self, x, y):\n",
        "    return x * y\n",
        "\n",
        "  def divide(self, x, y):\n",
        "    return x / y\n"
      ],
      "metadata": {
        "colab": {
          "base_uri": "https://localhost:8080/"
        },
        "id": "4OsClcoKI7Lu",
        "outputId": "2e137068-b315-4b2e-f970-6bb45b7415b0"
      },
      "execution_count": 171,
      "outputs": [
        {
          "output_type": "stream",
          "name": "stdout",
          "text": [
            "time: 893 µs (started: 2024-04-14 15:13:04 +00:00)\n"
          ]
        }
      ]
    },
    {
      "cell_type": "code",
      "source": [
        "c = Calculator()"
      ],
      "metadata": {
        "colab": {
          "base_uri": "https://localhost:8080/"
        },
        "id": "xI_COuB1KDtf",
        "outputId": "89d178af-521a-4fb7-fd97-1f36becc15d9"
      },
      "execution_count": 172,
      "outputs": [
        {
          "output_type": "stream",
          "name": "stdout",
          "text": [
            "time: 539 µs (started: 2024-04-14 15:13:09 +00:00)\n"
          ]
        }
      ]
    },
    {
      "cell_type": "code",
      "source": [
        "c.add(100, 80)"
      ],
      "metadata": {
        "colab": {
          "base_uri": "https://localhost:8080/"
        },
        "id": "fwXRniICKNsT",
        "outputId": "a218a5f4-8bf9-4374-82c3-8f6bfb141565"
      },
      "execution_count": 173,
      "outputs": [
        {
          "output_type": "execute_result",
          "data": {
            "text/plain": [
              "180"
            ]
          },
          "metadata": {},
          "execution_count": 173
        },
        {
          "output_type": "stream",
          "name": "stdout",
          "text": [
            "time: 13.2 ms (started: 2024-04-14 15:13:17 +00:00)\n"
          ]
        }
      ]
    },
    {
      "cell_type": "code",
      "source": [
        "# Exception Handling in Python with Try and Except\n",
        "\n",
        "# Case 1: Without exception handling\n",
        "base_number = 10\n",
        "\n",
        "for i in range(5,-1, -1):\n",
        "  print(f\"{base_number}/{i} = {base_number/i}\")"
      ],
      "metadata": {
        "colab": {
          "base_uri": "https://localhost:8080/",
          "height": 280
        },
        "collapsed": true,
        "id": "wvSbdinWmLDb",
        "outputId": "e798b7cb-e782-49c3-e39d-a8d8f5663987"
      },
      "execution_count": 174,
      "outputs": [
        {
          "output_type": "stream",
          "name": "stdout",
          "text": [
            "10/5 = 2.0\n",
            "10/4 = 2.5\n",
            "10/3 = 3.3333333333333335\n",
            "10/2 = 5.0\n",
            "10/1 = 10.0\n"
          ]
        },
        {
          "output_type": "error",
          "ename": "ZeroDivisionError",
          "evalue": "division by zero",
          "traceback": [
            "\u001b[0;31m---------------------------------------------------------------------------\u001b[0m",
            "\u001b[0;31mZeroDivisionError\u001b[0m                         Traceback (most recent call last)",
            "\u001b[0;32m<ipython-input-174-942087241fd9>\u001b[0m in \u001b[0;36m<cell line: 6>\u001b[0;34m()\u001b[0m\n\u001b[1;32m      5\u001b[0m \u001b[0;34m\u001b[0m\u001b[0m\n\u001b[1;32m      6\u001b[0m \u001b[0;32mfor\u001b[0m \u001b[0mi\u001b[0m \u001b[0;32min\u001b[0m \u001b[0mrange\u001b[0m\u001b[0;34m(\u001b[0m\u001b[0;36m5\u001b[0m\u001b[0;34m,\u001b[0m\u001b[0;34m-\u001b[0m\u001b[0;36m1\u001b[0m\u001b[0;34m,\u001b[0m \u001b[0;34m-\u001b[0m\u001b[0;36m1\u001b[0m\u001b[0;34m)\u001b[0m\u001b[0;34m:\u001b[0m\u001b[0;34m\u001b[0m\u001b[0;34m\u001b[0m\u001b[0m\n\u001b[0;32m----> 7\u001b[0;31m   \u001b[0mprint\u001b[0m\u001b[0;34m(\u001b[0m\u001b[0;34mf\"{base_number}/{i} = {base_number/i}\"\u001b[0m\u001b[0;34m)\u001b[0m\u001b[0;34m\u001b[0m\u001b[0;34m\u001b[0m\u001b[0m\n\u001b[0m",
            "\u001b[0;31mZeroDivisionError\u001b[0m: division by zero"
          ]
        },
        {
          "output_type": "stream",
          "name": "stdout",
          "text": [
            "time: 21.6 ms (started: 2024-04-14 15:16:29 +00:00)\n"
          ]
        }
      ]
    },
    {
      "cell_type": "code",
      "source": [
        "import traceback"
      ],
      "metadata": {
        "colab": {
          "base_uri": "https://localhost:8080/"
        },
        "id": "CTNoqofsNjCC",
        "outputId": "7b143a87-96e3-49f1-c671-9ebfa744ec01"
      },
      "execution_count": 179,
      "outputs": [
        {
          "output_type": "stream",
          "name": "stdout",
          "text": [
            "time: 551 µs (started: 2024-04-14 15:25:02 +00:00)\n"
          ]
        }
      ]
    },
    {
      "cell_type": "code",
      "source": [
        "# @title\n",
        "# Case 2: With exception handling\n",
        "base_number = 10\n",
        "\n",
        "for i in range(5,-1, -1):\n",
        "  try:\n",
        "    print(f\"{base_number}/{i} = {base_number/i}\")\n",
        "  except Exception as e:\n",
        "    # print(f\"Encountered exception: {e}\")\n",
        "    # print(f\"Error encountered when dividing {base_number} by {i}\")\n",
        "    print(traceback.format_exc())\n"
      ],
      "metadata": {
        "colab": {
          "base_uri": "https://localhost:8080/"
        },
        "collapsed": true,
        "id": "LOkuj6p2ndSW",
        "outputId": "f37deb3d-f0cb-4385-8b9b-284f7308a33b"
      },
      "execution_count": 180,
      "outputs": [
        {
          "output_type": "stream",
          "name": "stdout",
          "text": [
            "10/5 = 2.0\n",
            "10/4 = 2.5\n",
            "10/3 = 3.3333333333333335\n",
            "10/2 = 5.0\n",
            "10/1 = 10.0\n",
            "Traceback (most recent call last):\n",
            "  File \"<ipython-input-180-cd0c2efb7faa>\", line 7, in <cell line: 5>\n",
            "    print(f\"{base_number}/{i} = {base_number/i}\")\n",
            "ZeroDivisionError: division by zero\n",
            "\n",
            "time: 4.18 ms (started: 2024-04-14 15:25:29 +00:00)\n"
          ]
        }
      ]
    },
    {
      "cell_type": "code",
      "source": [],
      "metadata": {
        "id": "6rNXb0xVnwFM"
      },
      "execution_count": null,
      "outputs": []
    }
  ]
}